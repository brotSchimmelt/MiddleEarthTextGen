{
 "cells": [
  {
   "cell_type": "code",
   "execution_count": 1,
   "metadata": {},
   "outputs": [
    {
     "name": "stdout",
     "output_type": "stream",
     "text": [
      "Hello World\n"
     ]
    }
   ],
   "source": [
    "from util.helper import hello\n",
    "\n",
    "hello()"
   ]
  }
 ],
 "metadata": {
  "kernelspec": {
   "display_name": "lotrGPT",
   "language": "python",
   "name": "python3"
  },
  "language_info": {
   "codemirror_mode": {
    "name": "ipython",
    "version": 3
   },
   "file_extension": ".py",
   "mimetype": "text/x-python",
   "name": "python",
   "nbconvert_exporter": "python",
   "pygments_lexer": "ipython3",
   "version": "3.10.9"
  },
  "orig_nbformat": 4,
  "vscode": {
   "interpreter": {
    "hash": "0cd598e4c2cb8528f621442517540a5cc7ae47a2f41a054f8ca4c96ef70435cf"
   }
  }
 },
 "nbformat": 4,
 "nbformat_minor": 2
}
