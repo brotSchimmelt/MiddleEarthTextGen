{
  "cells": [
    {
      "cell_type": "markdown",
      "metadata": {
        "id": "PJBU4ZtznlRr"
      },
      "source": [
        "# Train Middle Earth Text Gen"
      ]
    },
    {
      "cell_type": "markdown",
      "source": [
        "## Clone the Repo"
      ],
      "metadata": {
        "id": "ZwwslWfPw3Xe"
      }
    },
    {
      "cell_type": "code",
      "execution_count": null,
      "metadata": {
        "id": "k9C4mS1EnlRr"
      },
      "outputs": [],
      "source": [
        "!git clone https://github.com/brotSchimmelt/MiddleEarthTextGen.git\n",
        "\n",
        "import os\n",
        "os.chdir(\"MiddleEarthTextGen\")"
      ]
    },
    {
      "cell_type": "markdown",
      "source": [
        "## Load the Text"
      ],
      "metadata": {
        "id": "F6nE4HMLw7uV"
      }
    },
    {
      "cell_type": "code",
      "source": [
        "from google.colab import files\n",
        "\n",
        "upload = files.upload()\n",
        "file_name = list(upload.keys())[0]"
      ],
      "metadata": {
        "id": "iZmhk3lonpfe"
      },
      "execution_count": null,
      "outputs": []
    },
    {
      "cell_type": "code",
      "source": [
        "with open(file_name, 'r', encoding='utf-8') as f:\n",
        "  text = f.read()\n",
        "\n",
        "vocab = sorted(list(set(text)))\n",
        "vocab_size = len(vocab)\n",
        "\n",
        "print(f'{file_name} is {len(text):,} characters long with a vocabulary size of {vocab_size}.\\n')\n",
        "print(f'Vocabulary: {repr(\"\".join(vocab))}\\n')\n",
        "print(f'First 500 character sequence:\\n{text[:500]}')"
      ],
      "metadata": {
        "id": "43nCG_ttn_2e"
      },
      "execution_count": null,
      "outputs": []
    },
    {
      "cell_type": "code",
      "source": [],
      "metadata": {
        "id": "DE5GPKqSvDg4"
      },
      "execution_count": null,
      "outputs": []
    }
  ],
  "metadata": {
    "kernelspec": {
      "display_name": "lotrGPT",
      "language": "python",
      "name": "python3"
    },
    "language_info": {
      "codemirror_mode": {
        "name": "ipython",
        "version": 3
      },
      "file_extension": ".py",
      "mimetype": "text/x-python",
      "name": "python",
      "nbconvert_exporter": "python",
      "pygments_lexer": "ipython3",
      "version": "3.10.9"
    },
    "orig_nbformat": 4,
    "vscode": {
      "interpreter": {
        "hash": "0cd598e4c2cb8528f621442517540a5cc7ae47a2f41a054f8ca4c96ef70435cf"
      }
    },
    "colab": {
      "provenance": []
    }
  },
  "nbformat": 4,
  "nbformat_minor": 0
}